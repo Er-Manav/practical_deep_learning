{
  "nbformat": 4,
  "nbformat_minor": 0,
  "metadata": {
    "kernelspec": {
      "display_name": "Python 3",
      "language": "python",
      "name": "python3"
    },
    "language_info": {
      "codemirror_mode": {
        "name": "ipython",
        "version": 3
      },
      "file_extension": ".py",
      "mimetype": "text/x-python",
      "name": "python",
      "nbconvert_exporter": "python",
      "pygments_lexer": "ipython3",
      "version": "3.6.8"
    },
    "colab": {
      "name": "Lesson 12 (Computer Vision).ipynb",
      "provenance": [],
      "collapsed_sections": [
        "l6C-2aM5SKu5",
        "XfZ7RlkQHYVS",
        "6CQxyqgoH4oG",
        "TJ251xSNtidN",
        "cow-kg3eIKQr",
        "EpopYCQGtidr",
        "QD44iIX3tifj",
        "IdR0b2ostigz",
        "t0HrcA23S-dH",
        "DqQkMIyqtiiS",
        "eSyPikpptiiw",
        "oMrLmpsTJF8a",
        "0jKRG9czVoVd"
      ],
      "include_colab_link": true
    }
  },
  "cells": [
    {
      "cell_type": "markdown",
      "metadata": {
        "id": "view-in-github",
        "colab_type": "text"
      },
      "source": [
        "<a href=\"https://colab.research.google.com/github/pttrilok/practical_deep_learning/blob/master/Lesson%2012%20(Computer%20Vision).ipynb\" target=\"_parent\"><img src=\"https://colab.research.google.com/assets/colab-badge.svg\" alt=\"Open In Colab\"/></a>"
      ]
    },
    {
      "cell_type": "markdown",
      "metadata": {
        "id": "ezzc1PdCwlT_",
        "colab_type": "text"
      },
      "source": [
        "In this module we are going to learn about NLP From Scratch: Classifying Names with a Character-Level RNN\n",
        "\n",
        "We will be following steps\n",
        "\n",
        "1.   Objective\n",
        "2.   Getting dataset and extracting the dataset\n",
        "3.   Creating Network\n",
        "4.   Training\n",
        "5.   Plotting the results\n",
        "6.   Making predictions on our own data\n",
        "\n",
        "7.   Using an encoder and concept of average pooling\n",
        "\n",
        "\n",
        "\n"
      ]
    },
    {
      "cell_type": "markdown",
      "metadata": {
        "id": "l6C-2aM5SKu5",
        "colab_type": "text"
      },
      "source": [
        "# ***Objective***"
      ]
    },
    {
      "cell_type": "markdown",
      "metadata": {
        "id": "jGY8oiRKticR",
        "colab_type": "text"
      },
      "source": [
        "We will be building and training a basic character-level RNN to classify\n",
        "words. This tutorial, along with the following two, show how to do\n",
        "preprocess data for NLP modeling \"from scratch\", in particular not using\n",
        "many of the convenience functions of `torchtext`, so you can see how\n",
        "preprocessing for NLP modeling works at a low level.\n",
        "\n",
        "A character-level RNN reads words as a series of characters -\n",
        "outputting a prediction and \"hidden state\" at each step, feeding its\n",
        "previous hidden state into each next step. We take the final prediction\n",
        "to be the output, i.e. which class the word belongs to.\n",
        "\n",
        "Specifically, we'll train on a few thousand surnames from 18 languages\n",
        "of origin, and predict which language a name is from based on the\n",
        "spelling:\n",
        "\n",
        "\n",
        "\n"
      ]
    },
    {
      "cell_type": "markdown",
      "metadata": {
        "id": "XfZ7RlkQHYVS",
        "colab_type": "text"
      },
      "source": [
        "# Getting dataset and extracting the dataset"
      ]
    },
    {
      "cell_type": "markdown",
      "metadata": {
        "id": "LISWHQqNxTS-",
        "colab_type": "text"
      },
      "source": [
        "***Downloading dataset***"
      ]
    },
    {
      "cell_type": "code",
      "metadata": {
        "id": "72_LSWFZucj1",
        "colab_type": "code",
        "colab": {
          "base_uri": "https://localhost:8080/",
          "height": 0
        },
        "outputId": "1d03f0fd-ccae-45c3-e5f1-f54161fab710"
      },
      "source": [
        "!wget \"https://download.pytorch.org/tutorial/data.zip\""
      ],
      "execution_count": 3,
      "outputs": [
        {
          "output_type": "stream",
          "text": [
            "--2020-09-02 03:08:49--  https://download.pytorch.org/tutorial/data.zip\n",
            "Resolving download.pytorch.org (download.pytorch.org)... 99.86.38.37, 99.86.38.106, 99.86.38.96, ...\n",
            "Connecting to download.pytorch.org (download.pytorch.org)|99.86.38.37|:443... connected.\n",
            "HTTP request sent, awaiting response... 200 OK\n",
            "Length: 2882130 (2.7M) [application/zip]\n",
            "Saving to: ‘data.zip’\n",
            "\n",
            "data.zip            100%[===================>]   2.75M  --.-KB/s    in 0.08s   \n",
            "\n",
            "2020-09-02 03:08:50 (32.6 MB/s) - ‘data.zip’ saved [2882130/2882130]\n",
            "\n"
          ],
          "name": "stdout"
        }
      ]
    },
    {
      "cell_type": "code",
      "metadata": {
        "id": "CgJsz-N3xYeA",
        "colab_type": "code",
        "colab": {}
      },
      "source": [
        ""
      ],
      "execution_count": null,
      "outputs": []
    },
    {
      "cell_type": "markdown",
      "metadata": {
        "id": "1VB_BwXJxY9z",
        "colab_type": "text"
      },
      "source": [
        "***Extracting data***"
      ]
    },
    {
      "cell_type": "code",
      "metadata": {
        "id": "ic3ya-zNuh2U",
        "colab_type": "code",
        "colab": {
          "base_uri": "https://localhost:8080/",
          "height": 0
        },
        "outputId": "f91ae3c3-4985-4b50-c591-6f36ef598cab"
      },
      "source": [
        "!unzip \"*.zip\""
      ],
      "execution_count": 4,
      "outputs": [
        {
          "output_type": "stream",
          "text": [
            "Archive:  data.zip\n",
            "   creating: data/\n",
            "  inflating: data/eng-fra.txt        \n",
            "   creating: data/names/\n",
            "  inflating: data/names/Arabic.txt   \n",
            "  inflating: data/names/Chinese.txt  \n",
            "  inflating: data/names/Czech.txt    \n",
            "  inflating: data/names/Dutch.txt    \n",
            "  inflating: data/names/English.txt  \n",
            "  inflating: data/names/French.txt   \n",
            "  inflating: data/names/German.txt   \n",
            "  inflating: data/names/Greek.txt    \n",
            "  inflating: data/names/Irish.txt    \n",
            "  inflating: data/names/Italian.txt  \n",
            "  inflating: data/names/Japanese.txt  \n",
            "  inflating: data/names/Korean.txt   \n",
            "  inflating: data/names/Polish.txt   \n",
            "  inflating: data/names/Portuguese.txt  \n",
            "  inflating: data/names/Russian.txt  \n",
            "  inflating: data/names/Scottish.txt  \n",
            "  inflating: data/names/Spanish.txt  \n",
            "  inflating: data/names/Vietnamese.txt  \n"
          ],
          "name": "stdout"
        }
      ]
    },
    {
      "cell_type": "markdown",
      "metadata": {
        "id": "6CQxyqgoH4oG",
        "colab_type": "text"
      },
      "source": [
        "# Data Preprocessing"
      ]
    },
    {
      "cell_type": "markdown",
      "metadata": {
        "id": "612Q35GSxjr5",
        "colab_type": "text"
      },
      "source": [
        "***Importing required Libraries......***"
      ]
    },
    {
      "cell_type": "code",
      "metadata": {
        "id": "2WaAUDa-xiMz",
        "colab_type": "code",
        "colab": {}
      },
      "source": [
        "from __future__ import unicode_literals, print_function, division\n",
        "from io import open\n",
        "import glob\n",
        "import os"
      ],
      "execution_count": 44,
      "outputs": []
    },
    {
      "cell_type": "markdown",
      "metadata": {
        "id": "AP3qAXkNx_z_",
        "colab_type": "text"
      },
      "source": [
        "***Defining findFiles function to explore different files***"
      ]
    },
    {
      "cell_type": "code",
      "metadata": {
        "id": "7CUbOWUmx8D_",
        "colab_type": "code",
        "colab": {}
      },
      "source": [
        "def findFiles(path):\n",
        "  return glob.glob(path)"
      ],
      "execution_count": 45,
      "outputs": []
    },
    {
      "cell_type": "code",
      "metadata": {
        "id": "GAHaMKNTyMz7",
        "colab_type": "code",
        "colab": {
          "base_uri": "https://localhost:8080/",
          "height": 0
        },
        "outputId": "4bd8209f-374d-4eec-dfc1-49d16257c218"
      },
      "source": [
        "print(findFiles('data/names/*.txt'))"
      ],
      "execution_count": 46,
      "outputs": [
        {
          "output_type": "stream",
          "text": [
            "['data/names/Chinese.txt', 'data/names/Korean.txt', 'data/names/English.txt', 'data/names/Czech.txt', 'data/names/Japanese.txt', 'data/names/Dutch.txt', 'data/names/Portuguese.txt', 'data/names/Russian.txt', 'data/names/Greek.txt', 'data/names/Vietnamese.txt', 'data/names/Spanish.txt', 'data/names/German.txt', 'data/names/Polish.txt', 'data/names/Scottish.txt', 'data/names/French.txt', 'data/names/Irish.txt', 'data/names/Italian.txt', 'data/names/Arabic.txt']\n"
          ],
          "name": "stdout"
        }
      ]
    },
    {
      "cell_type": "markdown",
      "metadata": {
        "id": "H8hjmPftysgL",
        "colab_type": "text"
      },
      "source": [
        "***Getting all characters***"
      ]
    },
    {
      "cell_type": "code",
      "metadata": {
        "id": "WoAwOWq6y0L_",
        "colab_type": "code",
        "colab": {
          "base_uri": "https://localhost:8080/",
          "height": 0
        },
        "outputId": "8172f3b1-a9d7-491d-ce47-8603a1a1891c"
      },
      "source": [
        "import unicodedata\n",
        "import string\n",
        "\n",
        "all_letters = string.ascii_letters + \" .,;'\"\n",
        "n_letters = len(all_letters)\n",
        "print(all_letters)\n",
        "print(n_letters)"
      ],
      "execution_count": 47,
      "outputs": [
        {
          "output_type": "stream",
          "text": [
            "abcdefghijklmnopqrstuvwxyzABCDEFGHIJKLMNOPQRSTUVWXYZ .,;'\n",
            "57\n"
          ],
          "name": "stdout"
        }
      ]
    },
    {
      "cell_type": "markdown",
      "metadata": {
        "id": "x8yfYb36zTfq",
        "colab_type": "text"
      },
      "source": [
        "Turn a Unicode string to plain ASCII"
      ]
    },
    {
      "cell_type": "code",
      "metadata": {
        "id": "6LuCz5PpzhIH",
        "colab_type": "code",
        "colab": {}
      },
      "source": [
        "def unicodeToAscii(s):\n",
        "    return ''.join(\n",
        "        c for c in unicodedata.normalize('NFD', s)\n",
        "        if unicodedata.category(c) != 'Mn'\n",
        "        and c in all_letters\n",
        "    )"
      ],
      "execution_count": 48,
      "outputs": []
    },
    {
      "cell_type": "code",
      "metadata": {
        "id": "84S3rSu9zmEg",
        "colab_type": "code",
        "colab": {
          "base_uri": "https://localhost:8080/",
          "height": 0
        },
        "outputId": "76df5693-86c4-42f7-9305-092ab47aa74f"
      },
      "source": [
        "print(unicodeToAscii('Ślusàrski'))"
      ],
      "execution_count": 49,
      "outputs": [
        {
          "output_type": "stream",
          "text": [
            "Slusarski\n"
          ],
          "name": "stdout"
        }
      ]
    },
    {
      "cell_type": "code",
      "metadata": {
        "id": "E5zLa6GpticW",
        "colab_type": "code",
        "colab": {
          "base_uri": "https://localhost:8080/",
          "height": 0
        },
        "outputId": "c178207b-57e7-414f-be2d-8826b6475941"
      },
      "source": [
        "# Build the category_lines dictionary, a list of names per language\n",
        "category_lines = {}\n",
        "all_categories = []\n",
        "\n",
        "# Read a file and split into lines\n",
        "def readLines(filename):\n",
        "    lines = open(filename, encoding='utf-8').read().strip().split('\\n')\n",
        "    return [unicodeToAscii(line) for line in lines]\n",
        "\n",
        "for filename in findFiles('data/names/*.txt'):\n",
        "    category = os.path.splitext(os.path.basename(filename))[0]\n",
        "    all_categories.append(category)\n",
        "    lines = readLines(filename)\n",
        "    category_lines[category] = lines\n",
        "\n",
        "n_categories = len(all_categories)\n",
        "\n",
        "print(all_categories)"
      ],
      "execution_count": 50,
      "outputs": [
        {
          "output_type": "stream",
          "text": [
            "['Chinese', 'Korean', 'English', 'Czech', 'Japanese', 'Dutch', 'Portuguese', 'Russian', 'Greek', 'Vietnamese', 'Spanish', 'German', 'Polish', 'Scottish', 'French', 'Irish', 'Italian', 'Arabic']\n"
          ],
          "name": "stdout"
        }
      ]
    },
    {
      "cell_type": "markdown",
      "metadata": {
        "id": "WHQfJaRWticv",
        "colab_type": "text"
      },
      "source": [
        "Now we have ``category_lines``, a dictionary mapping each category\n",
        "(language) to a list of lines (names). We also kept track of\n",
        "``all_categories`` (just a list of languages) and ``n_categories`` for\n",
        "later reference.\n",
        "\n",
        "\n"
      ]
    },
    {
      "cell_type": "code",
      "metadata": {
        "id": "0iOA3cLJtic5",
        "colab_type": "code",
        "colab": {
          "base_uri": "https://localhost:8080/",
          "height": 0
        },
        "outputId": "632e688c-86ee-4671-e681-50adb8028eb3"
      },
      "source": [
        "print(category_lines['Arabic'][:5])"
      ],
      "execution_count": 51,
      "outputs": [
        {
          "output_type": "stream",
          "text": [
            "['Khoury', 'Nahas', 'Daher', 'Gerges', 'Nazari']\n"
          ],
          "name": "stdout"
        }
      ]
    },
    {
      "cell_type": "markdown",
      "metadata": {
        "id": "TJ251xSNtidN",
        "colab_type": "text"
      },
      "source": [
        "Turning Names into Tensors\n",
        "--------------------------\n",
        "\n",
        "Now that we have all the names organized, we need to turn them into\n",
        "Tensors to make any use of them.\n",
        "\n",
        "To represent a single letter, we use a \"one-hot vector\" of size\n",
        "``<1 x n_letters>``. A one-hot vector is filled with 0s except for a 1\n",
        "at index of the current letter, e.g. ``\"b\" = <0 1 0 0 0 ...>``.\n",
        "\n",
        "To make a word we join a bunch of those into a 2D matrix\n",
        "``<line_length x 1 x n_letters>``.\n",
        "\n",
        "That extra 1 dimension is because PyTorch assumes everything is in\n",
        "batches - we're just using a batch size of 1 here.\n",
        "\n",
        "\n"
      ]
    },
    {
      "cell_type": "markdown",
      "metadata": {
        "id": "OmHRJQh50srf",
        "colab_type": "text"
      },
      "source": [
        "***Importing torch....***"
      ]
    },
    {
      "cell_type": "code",
      "metadata": {
        "id": "8AFM__U60x4V",
        "colab_type": "code",
        "colab": {}
      },
      "source": [
        "import torch"
      ],
      "execution_count": 52,
      "outputs": []
    },
    {
      "cell_type": "markdown",
      "metadata": {
        "id": "dzHjdSdm03rp",
        "colab_type": "text"
      },
      "source": [
        "***Find letter index from all_letters, e.g. \"a\" = 0***"
      ]
    },
    {
      "cell_type": "code",
      "metadata": {
        "id": "SJBA_sZk0-Kr",
        "colab_type": "code",
        "colab": {}
      },
      "source": [
        "def letterToIndex(letter):\n",
        "    return all_letters.find(letter)"
      ],
      "execution_count": 53,
      "outputs": []
    },
    {
      "cell_type": "code",
      "metadata": {
        "id": "G1NC4bzf1BvU",
        "colab_type": "code",
        "colab": {
          "base_uri": "https://localhost:8080/",
          "height": 0
        },
        "outputId": "0d07877c-6ccc-46c5-9c9e-ab0d4ff1c0b9"
      },
      "source": [
        "letterToIndex('A')"
      ],
      "execution_count": 19,
      "outputs": [
        {
          "output_type": "execute_result",
          "data": {
            "text/plain": [
              "26"
            ]
          },
          "metadata": {
            "tags": []
          },
          "execution_count": 19
        }
      ]
    },
    {
      "cell_type": "code",
      "metadata": {
        "id": "_O7XZiKL1IWS",
        "colab_type": "code",
        "colab": {
          "base_uri": "https://localhost:8080/",
          "height": 0
        },
        "outputId": "4a355979-1221-4682-9733-879fa1fcd1b9"
      },
      "source": [
        "letterToIndex('a')"
      ],
      "execution_count": 54,
      "outputs": [
        {
          "output_type": "execute_result",
          "data": {
            "text/plain": [
              "0"
            ]
          },
          "metadata": {
            "tags": []
          },
          "execution_count": 54
        }
      ]
    },
    {
      "cell_type": "markdown",
      "metadata": {
        "id": "Uq-TFptg1Z6c",
        "colab_type": "text"
      },
      "source": [
        "***Turning  a letter into a <1 x n_letters> Tensor(Just to Show you demo)***"
      ]
    },
    {
      "cell_type": "code",
      "metadata": {
        "id": "aRND0jBH1evL",
        "colab_type": "code",
        "colab": {}
      },
      "source": [
        "def letterToTensor(letter):\n",
        "    tensor = torch.zeros(1, n_letters)\n",
        "    tensor[0][letterToIndex(letter)] = 1\n",
        "    return tensor"
      ],
      "execution_count": 55,
      "outputs": []
    },
    {
      "cell_type": "code",
      "metadata": {
        "id": "bzBKdMEV1hq2",
        "colab_type": "code",
        "colab": {
          "base_uri": "https://localhost:8080/",
          "height": 0
        },
        "outputId": "38515eb9-7f3c-483c-fec8-421185500151"
      },
      "source": [
        "letterToTensor(\"b\")"
      ],
      "execution_count": 56,
      "outputs": [
        {
          "output_type": "execute_result",
          "data": {
            "text/plain": [
              "tensor([[0., 1., 0., 0., 0., 0., 0., 0., 0., 0., 0., 0., 0., 0., 0., 0., 0., 0.,\n",
              "         0., 0., 0., 0., 0., 0., 0., 0., 0., 0., 0., 0., 0., 0., 0., 0., 0., 0.,\n",
              "         0., 0., 0., 0., 0., 0., 0., 0., 0., 0., 0., 0., 0., 0., 0., 0., 0., 0.,\n",
              "         0., 0., 0.]])"
            ]
          },
          "metadata": {
            "tags": []
          },
          "execution_count": 56
        }
      ]
    },
    {
      "cell_type": "markdown",
      "metadata": {
        "id": "3uFcB8371ybU",
        "colab_type": "text"
      },
      "source": [
        "***Turn a line into a `<line_length x 1 x n_letters>`,\n",
        " or an array of one-hot letter vectors***"
      ]
    },
    {
      "cell_type": "code",
      "metadata": {
        "id": "rozEoFRd1xgp",
        "colab_type": "code",
        "colab": {}
      },
      "source": [
        "def lineToTensor(line):\n",
        "    tensor = torch.zeros(len(line), 1, n_letters)\n",
        "    for li, letter in enumerate(line):\n",
        "        tensor[li][0][letterToIndex(letter)] = 1\n",
        "    return tensor"
      ],
      "execution_count": 57,
      "outputs": []
    },
    {
      "cell_type": "code",
      "metadata": {
        "id": "8EYNC6pS2JN1",
        "colab_type": "code",
        "colab": {
          "base_uri": "https://localhost:8080/",
          "height": 0
        },
        "outputId": "91b52461-afa2-4446-84f5-5ed0fd03ae01"
      },
      "source": [
        "print(lineToTensor('trilok'))"
      ],
      "execution_count": 58,
      "outputs": [
        {
          "output_type": "stream",
          "text": [
            "tensor([[[0., 0., 0., 0., 0., 0., 0., 0., 0., 0., 0., 0., 0., 0., 0., 0., 0.,\n",
            "          0., 0., 1., 0., 0., 0., 0., 0., 0., 0., 0., 0., 0., 0., 0., 0., 0.,\n",
            "          0., 0., 0., 0., 0., 0., 0., 0., 0., 0., 0., 0., 0., 0., 0., 0., 0.,\n",
            "          0., 0., 0., 0., 0., 0.]],\n",
            "\n",
            "        [[0., 0., 0., 0., 0., 0., 0., 0., 0., 0., 0., 0., 0., 0., 0., 0., 0.,\n",
            "          1., 0., 0., 0., 0., 0., 0., 0., 0., 0., 0., 0., 0., 0., 0., 0., 0.,\n",
            "          0., 0., 0., 0., 0., 0., 0., 0., 0., 0., 0., 0., 0., 0., 0., 0., 0.,\n",
            "          0., 0., 0., 0., 0., 0.]],\n",
            "\n",
            "        [[0., 0., 0., 0., 0., 0., 0., 0., 1., 0., 0., 0., 0., 0., 0., 0., 0.,\n",
            "          0., 0., 0., 0., 0., 0., 0., 0., 0., 0., 0., 0., 0., 0., 0., 0., 0.,\n",
            "          0., 0., 0., 0., 0., 0., 0., 0., 0., 0., 0., 0., 0., 0., 0., 0., 0.,\n",
            "          0., 0., 0., 0., 0., 0.]],\n",
            "\n",
            "        [[0., 0., 0., 0., 0., 0., 0., 0., 0., 0., 0., 1., 0., 0., 0., 0., 0.,\n",
            "          0., 0., 0., 0., 0., 0., 0., 0., 0., 0., 0., 0., 0., 0., 0., 0., 0.,\n",
            "          0., 0., 0., 0., 0., 0., 0., 0., 0., 0., 0., 0., 0., 0., 0., 0., 0.,\n",
            "          0., 0., 0., 0., 0., 0.]],\n",
            "\n",
            "        [[0., 0., 0., 0., 0., 0., 0., 0., 0., 0., 0., 0., 0., 0., 1., 0., 0.,\n",
            "          0., 0., 0., 0., 0., 0., 0., 0., 0., 0., 0., 0., 0., 0., 0., 0., 0.,\n",
            "          0., 0., 0., 0., 0., 0., 0., 0., 0., 0., 0., 0., 0., 0., 0., 0., 0.,\n",
            "          0., 0., 0., 0., 0., 0.]],\n",
            "\n",
            "        [[0., 0., 0., 0., 0., 0., 0., 0., 0., 0., 1., 0., 0., 0., 0., 0., 0.,\n",
            "          0., 0., 0., 0., 0., 0., 0., 0., 0., 0., 0., 0., 0., 0., 0., 0., 0.,\n",
            "          0., 0., 0., 0., 0., 0., 0., 0., 0., 0., 0., 0., 0., 0., 0., 0., 0.,\n",
            "          0., 0., 0., 0., 0., 0.]]])\n"
          ],
          "name": "stdout"
        }
      ]
    },
    {
      "cell_type": "markdown",
      "metadata": {
        "id": "cow-kg3eIKQr",
        "colab_type": "text"
      },
      "source": [
        "# Creating the Network"
      ]
    },
    {
      "cell_type": "markdown",
      "metadata": {
        "id": "EpopYCQGtidr",
        "colab_type": "text"
      },
      "source": [
        "Before autograd, creating a recurrent neural network in Torch involved\n",
        "cloning the parameters of a layer over several timesteps. The layers\n",
        "held hidden state and gradients which are now entirely handled by the\n",
        "graph itself. This means you can implement a RNN in a very \"pure\" way,\n",
        "as regular feed-forward layers.\n",
        "\n",
        "![](https://i.imgur.com/Z2xbySO.png)\n",
        "   \n",
        "\n",
        "\n",
        "\n"
      ]
    },
    {
      "cell_type": "code",
      "metadata": {
        "id": "SshYGT1etidw",
        "colab_type": "code",
        "colab": {}
      },
      "source": [
        "import torch.nn as nn\n",
        "\n",
        "class RNN(nn.Module):\n",
        "    def __init__(self, input_size, hidden_size, output_size):\n",
        "        super(RNN, self).__init__()\n",
        "\n",
        "        self.hidden_size = hidden_size\n",
        "\n",
        "        self.i2h = nn.Linear(input_size + hidden_size, hidden_size)\n",
        "        self.i2o = nn.Linear(input_size + hidden_size, output_size)\n",
        "        self.softmax = nn.LogSoftmax(dim=1)\n",
        "\n",
        "    def forward(self, input, hidden):\n",
        "        combined = torch.cat((input, hidden), 1)\n",
        "        hidden = self.i2h(combined)\n",
        "        output = self.i2o(combined)\n",
        "        output = self.softmax(output)\n",
        "        return output, hidden\n",
        "\n",
        "    def initHidden(self):\n",
        "        return torch.zeros(1, self.hidden_size)\n",
        "\n",
        "n_hidden = 128\n",
        "rnn = RNN(n_letters, n_hidden, n_categories)"
      ],
      "execution_count": 59,
      "outputs": []
    },
    {
      "cell_type": "markdown",
      "metadata": {
        "id": "zZ_AgR19tieT",
        "colab_type": "text"
      },
      "source": [
        "To run a step of this network we need to pass an input (in our case, the\n",
        "Tensor for the current letter) and a previous hidden state (which we\n",
        "initialize as zeros at first). We'll get back the output (probability of\n",
        "each language) and a next hidden state (which we keep for the next\n",
        "step).\n",
        "\n",
        "\n"
      ]
    },
    {
      "cell_type": "code",
      "metadata": {
        "id": "i9FTCh-vtieT",
        "colab_type": "code",
        "colab": {
          "base_uri": "https://localhost:8080/",
          "height": 0
        },
        "outputId": "a044f56c-4ac7-45d9-9f8f-2e266c704a81"
      },
      "source": [
        "input = letterToTensor('A')\n",
        "hidden =torch.zeros(1, n_hidden)\n",
        "\n",
        "output, next_hidden = rnn(input, hidden)\n",
        "print(output)\n",
        "print(next_hidden)"
      ],
      "execution_count": 30,
      "outputs": [
        {
          "output_type": "stream",
          "text": [
            "tensor([[-2.7624, -3.0159, -2.9030, -2.8909, -2.8707, -2.8093, -2.9695, -2.8474,\n",
            "         -2.8541, -2.9689, -2.7861, -2.9477, -2.8655, -2.9170, -2.8283, -2.8823,\n",
            "         -2.9692, -2.9828]], grad_fn=<LogSoftmaxBackward>)\n",
            "tensor([[ 5.9005e-02,  4.2900e-02,  1.2338e-01, -9.3427e-02, -5.9397e-02,\n",
            "          9.7216e-02,  1.7563e-02, -1.0645e-01,  5.8129e-02,  1.3947e-01,\n",
            "         -3.4592e-02,  8.4063e-02,  2.4172e-02, -2.5560e-02,  6.9173e-02,\n",
            "          6.8740e-02, -4.3824e-02, -3.4685e-02,  3.7915e-02,  6.5556e-02,\n",
            "         -2.3449e-04, -7.3030e-03, -5.9424e-02, -4.7288e-02,  2.5935e-02,\n",
            "          3.6065e-02, -5.7277e-02, -4.9250e-03,  1.2608e-03,  6.7201e-02,\n",
            "          4.5236e-02, -5.4777e-02,  1.6563e-02, -3.6030e-02, -4.3406e-04,\n",
            "         -1.5537e-02, -8.9211e-02, -6.8415e-02,  9.3295e-02, -9.3448e-02,\n",
            "          2.4106e-03,  1.2231e-02, -1.0875e-01,  5.1818e-02,  1.5605e-02,\n",
            "          1.2862e-01,  3.6164e-02, -7.5184e-03, -6.8399e-02,  2.4227e-02,\n",
            "          2.2471e-02,  1.1824e-01,  3.9175e-02,  4.7966e-02,  9.6862e-03,\n",
            "          3.9727e-02, -2.0613e-02, -3.8059e-02, -8.1990e-03,  1.2672e-02,\n",
            "          9.2733e-03, -2.8805e-02, -9.6184e-02, -7.3307e-04, -5.7339e-02,\n",
            "         -1.1557e-01, -3.9491e-02, -1.0053e-01, -5.6942e-02,  4.6335e-02,\n",
            "          4.7819e-02, -8.6737e-02, -8.1276e-03, -1.2751e-01,  6.0451e-03,\n",
            "         -1.5484e-02,  1.1678e-02, -3.3648e-02, -1.0738e-01, -5.7672e-02,\n",
            "          6.9698e-02,  1.6731e-02, -2.4014e-03,  4.1721e-02, -1.0814e-01,\n",
            "         -3.8579e-02, -8.6021e-02,  4.0279e-02, -4.8806e-02, -5.3877e-03,\n",
            "          1.4456e-01, -1.7721e-02,  1.2665e-03,  8.9834e-02,  4.1162e-03,\n",
            "         -7.0702e-03,  1.2388e-01,  9.9256e-02, -2.1610e-02,  8.2790e-03,\n",
            "         -7.1148e-02,  5.1156e-02,  3.0005e-03,  4.4201e-02, -2.2574e-02,\n",
            "         -6.0313e-02, -7.4352e-02, -7.8118e-02, -5.0812e-02,  1.5798e-02,\n",
            "         -4.9266e-03,  8.8970e-02,  1.3577e-02, -6.3903e-02,  1.2690e-01,\n",
            "          2.7951e-02,  6.4019e-02,  5.5109e-02, -1.8190e-02,  9.7163e-05,\n",
            "          6.2987e-02, -9.8607e-02,  6.9633e-03, -3.7729e-02,  4.3502e-02,\n",
            "         -1.1386e-02, -1.2219e-01, -8.0724e-03]], grad_fn=<AddmmBackward>)\n"
          ],
          "name": "stdout"
        }
      ]
    },
    {
      "cell_type": "markdown",
      "metadata": {
        "id": "qn5CBlhJtie2",
        "colab_type": "text"
      },
      "source": [
        "For the sake of efficiency we don't want to be creating a new Tensor for\n",
        "every step, so we will use ``lineToTensor`` instead of\n",
        "``letterToTensor`` and use slices. This could be further optimized by\n",
        "pre-computing batches of Tensors.\n",
        "\n",
        "\n"
      ]
    },
    {
      "cell_type": "code",
      "metadata": {
        "id": "0Yhii4Cutie7",
        "colab_type": "code",
        "colab": {
          "base_uri": "https://localhost:8080/",
          "height": 0
        },
        "outputId": "11a7bec6-30d4-4e30-cac9-9272fdc153db"
      },
      "source": [
        "input = lineToTensor('Alb')\n",
        "hidden = torch.zeros(1, n_hidden)\n",
        "\n",
        "output, next_hidden = rnn(input[0], hidden)\n",
        "print(output)"
      ],
      "execution_count": 60,
      "outputs": [
        {
          "output_type": "stream",
          "text": [
            "tensor([[-2.9007, -2.9353, -2.8738, -2.9811, -2.8554, -2.7746, -2.9635, -2.8634,\n",
            "         -2.8325, -3.0334, -2.8985, -2.8265, -2.8544, -2.8395, -2.8928, -2.8597,\n",
            "         -2.9167, -2.9593]], grad_fn=<LogSoftmaxBackward>)\n"
          ],
          "name": "stdout"
        }
      ]
    },
    {
      "cell_type": "markdown",
      "metadata": {
        "id": "LV3OxnVOtife",
        "colab_type": "text"
      },
      "source": [
        "As you can see the output is a ``<1 x n_categories>`` Tensor, where\n",
        "every item is the likelihood of that category (higher is more likely).\n",
        "\n",
        "\n"
      ]
    },
    {
      "cell_type": "markdown",
      "metadata": {
        "id": "eOl8wB29RjzM",
        "colab_type": "text"
      },
      "source": [
        "# Training\n"
      ]
    },
    {
      "cell_type": "markdown",
      "metadata": {
        "id": "QD44iIX3tifj",
        "colab_type": "text"
      },
      "source": [
        "***Preparing for Training***\n",
        "--------------------------\n",
        "\n",
        "\n",
        "Before going into training we should make a few helper functions. The\n",
        "first is to interpret the output of the network, which we know to be a\n",
        "likelihood of each category. We can use ``Tensor.topk`` to get the index\n",
        "of the greatest value:\n",
        "\n",
        "\n"
      ]
    },
    {
      "cell_type": "code",
      "metadata": {
        "id": "sjkM_3O3tify",
        "colab_type": "code",
        "colab": {
          "base_uri": "https://localhost:8080/",
          "height": 0
        },
        "outputId": "ea081e1a-cf24-4ff0-83fc-3e48fc74d50f"
      },
      "source": [
        "def categoryFromOutput(output):\n",
        "    top_n, top_i = output.topk(1)\n",
        "    category_i = top_i[0].item()\n",
        "    return all_categories[category_i], category_i\n",
        "\n",
        "print(categoryFromOutput(output))"
      ],
      "execution_count": 61,
      "outputs": [
        {
          "output_type": "stream",
          "text": [
            "('Dutch', 5)\n"
          ],
          "name": "stdout"
        }
      ]
    },
    {
      "cell_type": "markdown",
      "metadata": {
        "id": "GQX73s7ZtigV",
        "colab_type": "text"
      },
      "source": [
        "We will also want a quick way to get a training example (a name and its\n",
        "language):\n",
        "\n",
        "\n"
      ]
    },
    {
      "cell_type": "code",
      "metadata": {
        "id": "p3fwHIUltiga",
        "colab_type": "code",
        "colab": {
          "base_uri": "https://localhost:8080/",
          "height": 0
        },
        "outputId": "fe85eabb-cfa8-48a8-f4c0-1a7daf77b380"
      },
      "source": [
        "import random\n",
        "\n",
        "def randomChoice(l):\n",
        "    return l[random.randint(0, len(l) - 1)]\n",
        "\n",
        "def randomTrainingExample():\n",
        "    category = randomChoice(all_categories)\n",
        "    line = randomChoice(category_lines[category])\n",
        "    category_tensor = torch.tensor([all_categories.index(category)], dtype=torch.long)\n",
        "    line_tensor = lineToTensor(line)\n",
        "    return category, line, category_tensor, line_tensor\n",
        "\n",
        "for i in range(10):\n",
        "    category, line, category_tensor, line_tensor = randomTrainingExample()\n",
        "    print('category =', category, '/ line =', line)"
      ],
      "execution_count": 62,
      "outputs": [
        {
          "output_type": "stream",
          "text": [
            "category = Italian / line = Porto\n",
            "category = Polish / line = Jaskulski\n",
            "category = Italian / line = Turati\n",
            "category = Chinese / line = Qing\n",
            "category = Scottish / line = Mccallum\n",
            "category = Czech / line = Matejka\n",
            "category = English / line = Edmundson\n",
            "category = Arabic / line = Fakhoury\n",
            "category = Japanese / line = Shima\n",
            "category = Japanese / line = Shunsen\n"
          ],
          "name": "stdout"
        }
      ]
    },
    {
      "cell_type": "markdown",
      "metadata": {
        "id": "IdR0b2ostigz",
        "colab_type": "text"
      },
      "source": [
        "Training the Network\n",
        "--------------------\n",
        "\n",
        "Now all it takes to train this network is show it a bunch of examples,\n",
        "have it make guesses, and tell it if it's wrong.\n",
        "\n",
        "For the loss function ``nn.NLLLoss`` is appropriate, since the last\n",
        "layer of the RNN is ``nn.LogSoftmax``.\n",
        "\n",
        "\n"
      ]
    },
    {
      "cell_type": "code",
      "metadata": {
        "id": "vW7rMi_5tig4",
        "colab_type": "code",
        "colab": {}
      },
      "source": [
        "criterion = nn.NLLLoss()"
      ],
      "execution_count": 63,
      "outputs": []
    },
    {
      "cell_type": "markdown",
      "metadata": {
        "id": "3E958hhqtihW",
        "colab_type": "text"
      },
      "source": [
        "Each loop of training will:\n",
        "\n",
        "-  Create input and target tensors\n",
        "-  Create a zeroed initial hidden state\n",
        "-  Read each letter in and\n",
        "\n",
        "   -  Keep hidden state for next letter\n",
        "\n",
        "-  Compare final output to target\n",
        "-  Back-propagate\n",
        "-  Return the output and loss\n",
        "\n",
        "\n"
      ]
    },
    {
      "cell_type": "code",
      "metadata": {
        "id": "ajTG1llotihb",
        "colab_type": "code",
        "colab": {}
      },
      "source": [
        "learning_rate = 0.005 # If you set this too high, it might explode. If too low, it might not learn\n",
        "\n",
        "def train(category_tensor, line_tensor):\n",
        "    hidden = rnn.initHidden()\n",
        "\n",
        "    rnn.zero_grad()\n",
        "\n",
        "    for i in range(line_tensor.size()[0]):\n",
        "        output, hidden = rnn(line_tensor[i], hidden)\n",
        "\n",
        "    loss = criterion(output, category_tensor)\n",
        "    loss.backward()\n",
        "\n",
        "    # Add parameters' gradients to their values, multiplied by learning rate\n",
        "    for p in rnn.parameters():\n",
        "        p.data.add_(p.grad.data, alpha=-learning_rate)\n",
        "\n",
        "    return output, loss.item()"
      ],
      "execution_count": 42,
      "outputs": []
    },
    {
      "cell_type": "markdown",
      "metadata": {
        "id": "d_QF_RSYtih0",
        "colab_type": "text"
      },
      "source": [
        "Now we just have to run that with a bunch of examples. Since the\n",
        "``train`` function returns both the output and loss we can print its\n",
        "guesses and also keep track of loss for plotting. Since there are 1000s\n",
        "of examples we print only every ``print_every`` examples, and take an\n",
        "average of the loss.\n",
        "\n",
        "\n"
      ]
    },
    {
      "cell_type": "code",
      "metadata": {
        "id": "548yVw-Atih5",
        "colab_type": "code",
        "colab": {
          "base_uri": "https://localhost:8080/",
          "height": 0
        },
        "outputId": "0ea9d315-2003-46da-e787-9da4e871d5f8"
      },
      "source": [
        "import time\n",
        "import math\n",
        "\n",
        "n_iters = 100000\n",
        "print_every = 5000\n",
        "plot_every = 1000\n",
        "\n",
        "\n",
        "\n",
        "# Keep track of losses for plotting\n",
        "current_loss = 0\n",
        "all_losses = []\n",
        "\n",
        "def timeSince(since):\n",
        "    now = time.time()\n",
        "    s = now - since\n",
        "    m = math.floor(s / 60)\n",
        "    s -= m * 60\n",
        "    return '%dm %ds' % (m, s)\n",
        "\n",
        "start = time.time()\n",
        "\n",
        "for iter in range(1, n_iters + 1):\n",
        "    category, line, category_tensor, line_tensor = randomTrainingExample()\n",
        "    output, loss = train(category_tensor, line_tensor)\n",
        "    current_loss += loss\n",
        "\n",
        "    # Print iter number, loss, name and guess\n",
        "    if iter % print_every == 0:\n",
        "        guess, guess_i = categoryFromOutput(output)\n",
        "        correct = '✓' if guess == category else '✗ (%s)' % category\n",
        "        print('%d %d%% (%s) %.4f %s / %s %s' % (iter, iter / n_iters * 100, timeSince(start), loss, line, guess, correct))\n",
        "\n",
        "    # Add current loss avg to list of losses\n",
        "    if iter % plot_every == 0:\n",
        "        all_losses.append(current_loss / plot_every)\n",
        "        current_loss = 0\n"
      ],
      "execution_count": 97,
      "outputs": [
        {
          "output_type": "stream",
          "text": [
            "5000 5% (0m 5s) 2.3012 Fraser / English ✗ (Scottish)\n",
            "10000 10% (0m 11s) 0.2441 Bekyros / Greek ✓\n",
            "15000 15% (0m 17s) 0.8482 Paget / French ✓\n",
            "20000 20% (0m 23s) 2.2001 Bran / English ✗ (Irish)\n",
            "25000 25% (0m 29s) 0.6509 Patselas / Greek ✓\n",
            "30000 30% (0m 35s) 1.3607 Ermacora / Spanish ✗ (Italian)\n",
            "35000 35% (0m 41s) 3.0366 Kron / Scottish ✗ (German)\n",
            "40000 40% (0m 47s) 0.3236 Cham / Arabic ✓\n",
            "45000 45% (0m 53s) 0.6856 Yang / Chinese ✓\n",
            "50000 50% (0m 59s) 0.0976 Descoteaux / French ✓\n",
            "55000 55% (1m 5s) 0.2530 Tosetti / Italian ✓\n",
            "60000 60% (1m 11s) 2.1872 Sponer / Dutch ✗ (Czech)\n",
            "65000 65% (1m 17s) 0.5335 Peeters / Dutch ✓\n",
            "70000 70% (1m 23s) 0.1333 Si / Korean ✓\n",
            "75000 75% (1m 29s) 0.9752 Assen / Dutch ✓\n",
            "80000 80% (1m 35s) 0.7283 Semick / Czech ✓\n",
            "85000 85% (1m 41s) 0.4085 Gerald / Irish ✓\n",
            "90000 90% (1m 46s) 0.5663 Brown / Scottish ✓\n",
            "95000 95% (1m 53s) 0.2968 Nakanoi / Japanese ✓\n",
            "100000 100% (1m 58s) 1.0602 Tosi / Italian ✓\n"
          ],
          "name": "stdout"
        }
      ]
    },
    {
      "cell_type": "markdown",
      "metadata": {
        "id": "WpdCN4lXGP6A",
        "colab_type": "text"
      },
      "source": [
        "***Saving our model to use independantly***"
      ]
    },
    {
      "cell_type": "code",
      "metadata": {
        "id": "-K7C9VCyGNp1",
        "colab_type": "code",
        "colab": {}
      },
      "source": [
        "torch.save(rnn, 'Surname_classification.pt')"
      ],
      "execution_count": 98,
      "outputs": []
    },
    {
      "cell_type": "code",
      "metadata": {
        "id": "_2mZNQTTFn1V",
        "colab_type": "code",
        "colab": {
          "base_uri": "https://localhost:8080/",
          "height": 0
        },
        "outputId": "7f3fbf6d-9e94-4f05-b8f4-dccd206ff4af"
      },
      "source": [
        "!ls -l --block-size MB"
      ],
      "execution_count": 73,
      "outputs": [
        {
          "output_type": "stream",
          "text": [
            "total 4MB\n",
            "drwxr-xr-x 3 root root 1MB Mar 12  2017 data\n",
            "-rw-r--r-- 1 root root 3MB Mar 15  2017 data.zip\n",
            "drwxr-xr-x 1 root root 1MB Aug 27 16:39 sample_data\n",
            "-rw-r--r-- 1 root root 1MB Sep  2 04:31 Surname_classification.pt\n"
          ],
          "name": "stdout"
        }
      ]
    },
    {
      "cell_type": "markdown",
      "metadata": {
        "id": "t0HrcA23S-dH",
        "colab_type": "text"
      },
      "source": [
        "# Plotting the Results"
      ]
    },
    {
      "cell_type": "markdown",
      "metadata": {
        "id": "DqQkMIyqtiiS",
        "colab_type": "text"
      },
      "source": [
        "\n",
        "\n",
        "Plotting the historical loss from ``all_losses`` shows the network\n",
        "learning:\n",
        "\n",
        "\n"
      ]
    },
    {
      "cell_type": "code",
      "metadata": {
        "id": "nugcr6vitiih",
        "colab_type": "code",
        "colab": {
          "base_uri": "https://localhost:8080/",
          "height": 0
        },
        "outputId": "f9d3c328-53de-4e8a-bf8e-50949568b3f9"
      },
      "source": [
        "import matplotlib.pyplot as plt\n",
        "import matplotlib.ticker as ticker\n",
        "%matplotlib inline\n",
        "\n",
        "plt.figure()\n",
        "plt.plot(all_losses)"
      ],
      "execution_count": 99,
      "outputs": [
        {
          "output_type": "execute_result",
          "data": {
            "text/plain": [
              "[<matplotlib.lines.Line2D at 0x7f1b2f0e2cc0>]"
            ]
          },
          "metadata": {
            "tags": []
          },
          "execution_count": 99
        },
        {
          "output_type": "display_data",
          "data": {
            "image/png": "[encoded data removed]",
            "text/plain": [
              "<Figure size 432x288 with 1 Axes>"
            ]
          },
          "metadata": {
            "tags": [],
            "needs_background": "light"
          }
        }
      ]
    },
    {
      "cell_type": "markdown",
      "metadata": {
        "id": "eSyPikpptiiw",
        "colab_type": "text"
      },
      "source": [
        "\n",
        "\n",
        "To see how well the network performs on different categories, we will\n",
        "create a confusion matrix, indicating for every actual language (rows)\n",
        "which language the network guesses (columns). To calculate the confusion\n",
        "matrix a bunch of samples are run through the network with\n",
        "``evaluate()``, which is the same as ``train()`` minus the backprop.\n",
        "\n",
        "\n"
      ]
    },
    {
      "cell_type": "markdown",
      "metadata": {
        "id": "dxonEJk9Gul9",
        "colab_type": "text"
      },
      "source": [
        "***Loading our saved model....***"
      ]
    },
    {
      "cell_type": "code",
      "metadata": {
        "id": "N9L9_Zk_F5hA",
        "colab_type": "code",
        "colab": {}
      },
      "source": [
        "rnn = torch.load('Surname_classification.pt')"
      ],
      "execution_count": 75,
      "outputs": []
    },
    {
      "cell_type": "code",
      "metadata": {
        "id": "tcUoGkpNtii1",
        "colab_type": "code",
        "colab": {
          "base_uri": "https://localhost:8080/",
          "height": 0
        },
        "outputId": "27ea1ea9-e47a-4bc6-dd72-06fc6e9c6216"
      },
      "source": [
        "# Keep track of correct guesses in a confusion matrix\n",
        "confusion = torch.zeros(n_categories, n_categories)\n",
        "n_confusion = 10000\n",
        "\n",
        "# Just return an output given a line\n",
        "def evaluate(line_tensor):\n",
        "    hidden = rnn.initHidden()\n",
        "\n",
        "    for i in range(line_tensor.size()[0]):\n",
        "        output, hidden = rnn(line_tensor[i], hidden)\n",
        "\n",
        "    return output\n",
        "\n",
        "# Go through a bunch of examples and record which are correctly guessed\n",
        "for i in range(n_confusion):\n",
        "    category, line, category_tensor, line_tensor = randomTrainingExample()\n",
        "    output = evaluate(line_tensor)\n",
        "    guess, guess_i = categoryFromOutput(output)\n",
        "    category_i = all_categories.index(category)\n",
        "    confusion[category_i][guess_i] += 1\n",
        "\n",
        "# Normalize by dividing every row by its sum\n",
        "for i in range(n_categories):\n",
        "    confusion[i] = confusion[i] / confusion[i].sum()\n",
        "\n",
        "# Set up plot\n",
        "fig = plt.figure()\n",
        "ax = fig.add_subplot(111)\n",
        "cax = ax.matshow(confusion.numpy())\n",
        "fig.colorbar(cax)\n",
        "\n",
        "# Set up axes\n",
        "ax.set_xticklabels([''] + all_categories, rotation=90)\n",
        "ax.set_yticklabels([''] + all_categories)\n",
        "\n",
        "# Force label at every tick\n",
        "ax.xaxis.set_major_locator(ticker.MultipleLocator(1))\n",
        "ax.yaxis.set_major_locator(ticker.MultipleLocator(1))\n",
        "\n",
        "# sphinx_gallery_thumbnail_number = 2\n",
        "plt.show()"
      ],
      "execution_count": 67,
      "outputs": [
        {
          "output_type": "display_data",
          "data": {
            "image/png": "[encoded data removed]",
            "text/plain": [
              "<Figure size 432x288 with 2 Axes>"
            ]
          },
          "metadata": {
            "tags": [],
            "needs_background": "light"
          }
        }
      ]
    },
    {
      "cell_type": "markdown",
      "metadata": {
        "id": "_bNQeYrDtijT",
        "colab_type": "text"
      },
      "source": [
        "You can pick out bright spots off the main axis that show which\n",
        "languages it guesses incorrectly, e.g. Chinese for Korean, and Spanish\n",
        "for Italian. It seems to do very well with Greek, and very poorly with\n",
        "English (perhaps because of overlap with other languages).\n",
        "\n",
        "\n"
      ]
    },
    {
      "cell_type": "markdown",
      "metadata": {
        "id": "oMrLmpsTJF8a",
        "colab_type": "text"
      },
      "source": [
        "# Making predictions on our own data"
      ]
    },
    {
      "cell_type": "markdown",
      "metadata": {
        "id": "d_BDQLGTJ4Fw",
        "colab_type": "text"
      },
      "source": [
        "***Loading saved model(I always prefer this thing to be done only after saving the model)***"
      ]
    },
    {
      "cell_type": "code",
      "metadata": {
        "id": "HGKLvmwZKMb1",
        "colab_type": "code",
        "colab": {}
      },
      "source": [
        "rnn = torch.load('Surname_classification.pt')"
      ],
      "execution_count": 91,
      "outputs": []
    },
    {
      "cell_type": "markdown",
      "metadata": {
        "id": "EW07Ln58JMqk",
        "colab_type": "text"
      },
      "source": [
        "***Defining some important function for predicition***"
      ]
    },
    {
      "cell_type": "code",
      "metadata": {
        "id": "-vIu9fIxJ1Iz",
        "colab_type": "code",
        "colab": {}
      },
      "source": [
        "def evaluate(line_tensor):\n",
        "    hidden = rnn.initHidden()\n",
        "\n",
        "    for i in range(line_tensor.size()[0]):\n",
        "        output, hidden = rnn(line_tensor[i], hidden)\n",
        "\n",
        "    return output"
      ],
      "execution_count": 92,
      "outputs": []
    },
    {
      "cell_type": "code",
      "metadata": {
        "id": "vZeAoSo6JWjp",
        "colab_type": "code",
        "colab": {}
      },
      "source": [
        "def predict(input_line, n_predictions=3):\n",
        "    print('\\n> %s' % input_line)\n",
        "    with torch.no_grad():\n",
        "        output = evaluate(lineToTensor(input_line))\n",
        "\n",
        "        # Get top N categories\n",
        "        topv, topi = output.topk(n_predictions, 1, True)\n",
        "        predictions = []\n",
        "\n",
        "        for i in range(n_predictions):\n",
        "            value = topv[0][i].item()\n",
        "            category_index = topi[0][i].item()\n",
        "            print('(%.2f) %s' % (value, all_categories[category_index]))\n",
        "            predictions.append([value, all_categories[category_index]])"
      ],
      "execution_count": 93,
      "outputs": []
    },
    {
      "cell_type": "code",
      "metadata": {
        "id": "YGyiXtJjJiI2",
        "colab_type": "code",
        "colab": {
          "base_uri": "https://localhost:8080/",
          "height": 0
        },
        "outputId": "17da899d-6f22-47a7-e6d2-80622ab00974"
      },
      "source": [
        "predict('Dovesky')\n",
        "predict('Jackson')\n",
        "predict('Satoshi')"
      ],
      "execution_count": 94,
      "outputs": [
        {
          "output_type": "stream",
          "text": [
            "\n",
            "> Dovesky\n",
            "(-0.47) Russian\n",
            "(-1.10) Czech\n",
            "(-4.00) English\n",
            "\n",
            "> Jackson\n",
            "(-0.20) Scottish\n",
            "(-2.65) English\n",
            "(-3.44) Greek\n",
            "\n",
            "> Satoshi\n",
            "(-1.21) Arabic\n",
            "(-1.46) Japanese\n",
            "(-2.03) Polish\n"
          ],
          "name": "stdout"
        }
      ]
    },
    {
      "cell_type": "code",
      "metadata": {
        "id": "E6kPh5xTJkep",
        "colab_type": "code",
        "colab": {
          "base_uri": "https://localhost:8080/",
          "height": 0
        },
        "outputId": "ac6ea4c7-cc5c-43bd-c074-01bad5ab2ba9"
      },
      "source": [
        "predict(\"Son\")"
      ],
      "execution_count": 95,
      "outputs": [
        {
          "output_type": "stream",
          "text": [
            "\n",
            "> Son\n",
            "(-0.08) Korean\n",
            "(-3.02) Chinese\n",
            "(-4.72) Vietnamese\n"
          ],
          "name": "stdout"
        }
      ]
    },
    {
      "cell_type": "markdown",
      "metadata": {
        "id": "0jKRG9czVoVd",
        "colab_type": "text"
      },
      "source": [
        "# ***My_encoder***"
      ]
    },
    {
      "cell_type": "code",
      "metadata": {
        "id": "ceB6RoMrN5US",
        "colab_type": "code",
        "colab": {}
      },
      "source": [
        "import torch\n",
        "from torch import nn\n",
        "import torchvision\n",
        "\n",
        "device = torch.device(\"cuda\" if torch.cuda.is_available() else \"cpu\")\n",
        "\n",
        "\n",
        "class Encoder(nn.Module):\n",
        "    \"\"\"\n",
        "    Encoder.\n",
        "    \"\"\"\n",
        "\n",
        "    def __init__(self, encoded_image_size=14):\n",
        "        super(Encoder, self).__init__()\n",
        "        self.enc_image_size = encoded_image_size\n",
        "\n",
        "        resnet = torchvision.models.resnet101(pretrained=True)  # pretrained ImageNet ResNet-101\n",
        "\n",
        "        # Remove linear and pool layers (since we're not doing classification)\n",
        "        modules = list(resnet.children())[:-2]\n",
        "        self.resnet = nn.Sequential(*modules)\n",
        "        self.adaptive_pool = nn.AdaptiveAvgPool2d((encoded_image_size, encoded_image_size))\n",
        "       \n",
        "    def forward(self, images):\n",
        "        out = self.resnet(images)  # (batch_size, 2048, image_size/32, image_size/32)\n",
        "        out = self.adaptive_pool(out)  # (batch_size, 2048, encoded_image_size, encoded_image_size)\n",
        "        out = out.permute(0, 2, 3, 1)\n",
        "        return out\n",
        "\n"
      ],
      "execution_count": 19,
      "outputs": []
    },
    {
      "cell_type": "code",
      "metadata": {
        "id": "rKCWFEhEWX1q",
        "colab_type": "code",
        "colab": {}
      },
      "source": [
        "enc= Encoder()"
      ],
      "execution_count": 20,
      "outputs": []
    },
    {
      "cell_type": "markdown",
      "metadata": {
        "id": "JpTij9MRwCVv",
        "colab_type": "text"
      },
      "source": [
        "*getting a test image*"
      ]
    },
    {
      "cell_type": "code",
      "metadata": {
        "id": "cRZp4341wmp4",
        "colab_type": "code",
        "colab": {
          "base_uri": "https://localhost:8080/",
          "height": 224
        },
        "outputId": "dc81efd1-7c4c-4548-ed69-b6dcf822285e"
      },
      "source": [
        "!wget \"https://resize.indiatvnews.com/en/resize/newbucket/715_-/2020/08/ram-mandir-image-1596552261.jpg\""
      ],
      "execution_count": 3,
      "outputs": [
        {
          "output_type": "stream",
          "text": [
            "--2020-09-02 07:43:47--  https://resize.indiatvnews.com/en/resize/newbucket/715_-/2020/08/ram-mandir-image-1596552261.jpg\n",
            "Resolving resize.indiatvnews.com (resize.indiatvnews.com)... 13.226.45.46, 13.226.45.31, 13.226.45.116, ...\n",
            "Connecting to resize.indiatvnews.com (resize.indiatvnews.com)|13.226.45.46|:443... connected.\n",
            "HTTP request sent, awaiting response... 200 OK\n",
            "Length: 29248 (29K) [image/jpeg]\n",
            "Saving to: ‘ram-mandir-image-1596552261.jpg’\n",
            "\n",
            "ram-mandir-image-15 100%[===================>]  28.56K   135KB/s    in 0.2s    \n",
            "\n",
            "2020-09-02 07:43:48 (135 KB/s) - ‘ram-mandir-image-1596552261.jpg’ saved [29248/29248]\n",
            "\n"
          ],
          "name": "stdout"
        }
      ]
    },
    {
      "cell_type": "code",
      "metadata": {
        "id": "XrTdl8SPW1Xq",
        "colab_type": "code",
        "colab": {}
      },
      "source": [
        "from PIL import Image\n",
        "from torchvision.transforms import ToTensor\n",
        "\n",
        "img_path=\"test.jpg\"\n",
        "image = Image.open(img_path)\n",
        "image = ToTensor()(image).unsqueeze(0) # unsqueeze to add artificial first dimension"
      ],
      "execution_count": 5,
      "outputs": []
    },
    {
      "cell_type": "code",
      "metadata": {
        "id": "3d_E5C4LYx2Q",
        "colab_type": "code",
        "colab": {
          "base_uri": "https://localhost:8080/",
          "height": 34
        },
        "outputId": "0d912ffd-b5cb-4fa5-ce55-382b8c5a83df"
      },
      "source": [
        "image.size()"
      ],
      "execution_count": 6,
      "outputs": [
        {
          "output_type": "execute_result",
          "data": {
            "text/plain": [
              "torch.Size([1, 3, 402, 715])"
            ]
          },
          "metadata": {
            "tags": []
          },
          "execution_count": 6
        }
      ]
    },
    {
      "cell_type": "code",
      "metadata": {
        "id": "94Mckfmgzbl6",
        "colab_type": "code",
        "colab": {
          "base_uri": "https://localhost:8080/",
          "height": 408
        },
        "outputId": "87f55c94-39a6-4040-b7e3-837804728954"
      },
      "source": [
        "image"
      ],
      "execution_count": 24,
      "outputs": [
        {
          "output_type": "execute_result",
          "data": {
            "text/plain": [
              "tensor([[[[0.9882, 0.9882, 0.9882,  ..., 0.9804, 0.9804, 0.9804],\n",
              "          [0.9882, 0.9882, 0.9882,  ..., 0.9804, 0.9804, 0.9804],\n",
              "          [0.9882, 0.9882, 0.9882,  ..., 0.9804, 0.9804, 0.9804],\n",
              "          ...,\n",
              "          [0.5608, 0.5569, 0.5529,  ..., 0.3961, 0.4039, 0.4157],\n",
              "          [0.5490, 0.5412, 0.5294,  ..., 0.4000, 0.4039, 0.4118],\n",
              "          [0.5490, 0.5412, 0.5294,  ..., 0.4000, 0.4039, 0.4118]],\n",
              "\n",
              "         [[0.7216, 0.7216, 0.7216,  ..., 0.8039, 0.8039, 0.8039],\n",
              "          [0.7216, 0.7216, 0.7216,  ..., 0.8039, 0.8039, 0.8039],\n",
              "          [0.7216, 0.7216, 0.7216,  ..., 0.8039, 0.8039, 0.8039],\n",
              "          ...,\n",
              "          [0.5412, 0.5373, 0.5333,  ..., 0.4667, 0.4745, 0.4863],\n",
              "          [0.5176, 0.5098, 0.4980,  ..., 0.4549, 0.4588, 0.4667],\n",
              "          [0.5176, 0.5098, 0.4980,  ..., 0.4549, 0.4588, 0.4667]],\n",
              "\n",
              "         [[0.2235, 0.2235, 0.2235,  ..., 0.4392, 0.4392, 0.4392],\n",
              "          [0.2235, 0.2235, 0.2235,  ..., 0.4392, 0.4392, 0.4392],\n",
              "          [0.2235, 0.2235, 0.2235,  ..., 0.4392, 0.4392, 0.4392],\n",
              "          ...,\n",
              "          [0.2118, 0.2078, 0.2039,  ..., 0.1765, 0.1843, 0.1961],\n",
              "          [0.2000, 0.1922, 0.1804,  ..., 0.1098, 0.1137, 0.1216],\n",
              "          [0.2000, 0.1922, 0.1804,  ..., 0.1098, 0.1137, 0.1216]]]])"
            ]
          },
          "metadata": {
            "tags": []
          },
          "execution_count": 24
        }
      ]
    },
    {
      "cell_type": "code",
      "metadata": {
        "id": "8jNPOlWrW_FS",
        "colab_type": "code",
        "colab": {}
      },
      "source": [
        "encoded_image = enc.forward(image)"
      ],
      "execution_count": 21,
      "outputs": []
    },
    {
      "cell_type": "code",
      "metadata": {
        "id": "49zZmMJYYWxe",
        "colab_type": "code",
        "colab": {
          "base_uri": "https://localhost:8080/",
          "height": 34
        },
        "outputId": "d7b6dd23-e37c-485a-bc4f-97ee5b34f12d"
      },
      "source": [
        "encoded_image.size()"
      ],
      "execution_count": 22,
      "outputs": [
        {
          "output_type": "execute_result",
          "data": {
            "text/plain": [
              "torch.Size([1, 14, 14, 2048])"
            ]
          },
          "metadata": {
            "tags": []
          },
          "execution_count": 22
        }
      ]
    },
    {
      "cell_type": "code",
      "metadata": {
        "id": "nMZDvUfRYrYL",
        "colab_type": "code",
        "colab": {
          "base_uri": "https://localhost:8080/",
          "height": 867
        },
        "outputId": "3512800d-d7e4-4bbb-d833-b4c63d280e37"
      },
      "source": [
        "encoded_image"
      ],
      "execution_count": 23,
      "outputs": [
        {
          "output_type": "execute_result",
          "data": {
            "text/plain": [
              "tensor([[[[0.4973, 0.0000, 0.0000,  ..., 0.8600, 0.0000, 0.0000],\n",
              "          [0.3024, 0.0000, 0.0000,  ..., 0.3686, 0.0000, 0.3058],\n",
              "          [0.0067, 0.0000, 0.0000,  ..., 0.0286, 0.0000, 0.7529],\n",
              "          ...,\n",
              "          [0.0000, 0.0000, 0.0000,  ..., 0.1552, 0.1624, 0.1460],\n",
              "          [0.0000, 0.0242, 0.0000,  ..., 0.4886, 0.0783, 0.4642],\n",
              "          [0.0000, 0.1491, 0.0000,  ..., 0.6108, 0.1174, 0.9352]],\n",
              "\n",
              "         [[0.2486, 0.0000, 0.0000,  ..., 0.8989, 0.0233, 0.0000],\n",
              "          [0.1542, 0.0000, 0.0172,  ..., 0.4018, 0.0000, 0.3500],\n",
              "          [0.0034, 0.0000, 0.0053,  ..., 0.0396, 0.0000, 0.7406],\n",
              "          ...,\n",
              "          [0.0000, 0.0629, 0.1398,  ..., 0.0857, 0.0812, 0.1570],\n",
              "          [0.0000, 0.1933, 0.2254,  ..., 0.7074, 0.0543, 0.3649],\n",
              "          [0.0000, 0.2226, 0.0000,  ..., 1.2293, 0.0815, 0.8860]],\n",
              "\n",
              "         [[0.0000, 0.0000, 0.5803,  ..., 0.7812, 0.0233, 0.0000],\n",
              "          [0.0030, 0.0000, 0.5753,  ..., 0.3873, 0.0000, 0.3411],\n",
              "          [0.0000, 0.0000, 0.1867,  ..., 0.0254, 0.0000, 0.6582],\n",
              "          ...,\n",
              "          [0.0000, 0.1207, 0.2841,  ..., 0.0081, 0.0000, 0.1920],\n",
              "          [0.0000, 0.3428, 0.3262,  ..., 0.6155, 0.0152, 0.1786],\n",
              "          [0.0000, 0.1833, 0.0449,  ..., 1.3786, 0.0228, 0.4184]],\n",
              "\n",
              "         ...,\n",
              "\n",
              "         [[0.8709, 0.7963, 0.6321,  ..., 0.0686, 0.0000, 0.1962],\n",
              "          [0.2581, 0.8541, 0.4431,  ..., 0.2923, 0.0576, 0.0664],\n",
              "          [0.3545, 0.1105, 0.2645,  ..., 0.3801, 0.0863, 0.7950],\n",
              "          ...,\n",
              "          [0.2781, 1.9374, 2.5868,  ..., 0.3845, 0.6482, 0.1519],\n",
              "          [0.0656, 2.3554, 1.6711,  ..., 0.1467, 0.0408, 0.0000],\n",
              "          [0.0000, 0.6211, 1.3419,  ..., 0.0000, 0.0000, 0.0000]],\n",
              "\n",
              "         [[0.3074, 0.3012, 0.8615,  ..., 0.0000, 0.0000, 0.4793],\n",
              "          [0.5021, 0.7914, 0.2295,  ..., 0.3104, 0.0845, 0.2342],\n",
              "          [0.5431, 0.1384, 0.0911,  ..., 0.7625, 0.1316, 1.0934],\n",
              "          ...,\n",
              "          [0.3711, 2.4009, 2.1334,  ..., 0.0562, 1.1152, 0.3735],\n",
              "          [0.0042, 2.6690, 1.3707,  ..., 0.0000, 0.1630, 0.0817],\n",
              "          [0.0000, 1.2927, 0.4839,  ..., 0.0000, 0.0000, 0.0000]],\n",
              "\n",
              "         [[0.2995, 0.1654, 0.8786,  ..., 0.0000, 0.0000, 0.5663],\n",
              "          [1.0041, 0.6255, 0.4441,  ..., 0.2866, 0.1566, 0.3356],\n",
              "          [1.0862, 0.0559, 0.1822,  ..., 0.7648, 0.2445, 1.2524],\n",
              "          ...,\n",
              "          [0.2954, 2.0276, 2.0086,  ..., 0.0000, 1.3670, 0.4858],\n",
              "          [0.0000, 2.2537, 1.4463,  ..., 0.0000, 0.2443, 0.1634],\n",
              "          [0.0000, 1.5665, 0.2278,  ..., 0.0000, 0.0000, 0.0000]]]],\n",
              "       grad_fn=<PermuteBackward>)"
            ]
          },
          "metadata": {
            "tags": []
          },
          "execution_count": 23
        }
      ]
    },
    {
      "cell_type": "code",
      "metadata": {
        "id": "9SNdhPBwZ5Ft",
        "colab_type": "code",
        "colab": {}
      },
      "source": [
        ""
      ],
      "execution_count": null,
      "outputs": []
    }
  ]
}