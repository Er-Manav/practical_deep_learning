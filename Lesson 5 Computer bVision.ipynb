{
  "nbformat": 4,
  "nbformat_minor": 0,
  "metadata": {
    "colab": {
      "name": "Lesson 5 Computer Vision.ipynb",
      "provenance": [],
      "collapsed_sections": []
    },
    "kernelspec": {
      "name": "python3",
      "display_name": "Python 3"
    }
  },
  "cells": [
    {
      "cell_type": "markdown",
      "metadata": {
        "id": "Udhf3oOCvWRw",
        "colab_type": "text"
      },
      "source": [
        "***In this module we will learn about how to build projects.***\n",
        "   ![Brain Image](https://miro.medium.com/max/700/1*PL2nO9ZSPmlWVUF-STxBsA.png)\n",
        "\n",
        "   \n",
        "So far you are just looking and running my codes and now it's your turn to do the same."
      ]
    },
    {
      "cell_type": "markdown",
      "metadata": {
        "id": "hmjrIrt7rqZh",
        "colab_type": "text"
      },
      "source": [
        "# ***Broad*** ***Idea*** "
      ]
    },
    {
      "cell_type": "markdown",
      "metadata": {
        "id": "GVB5YEzlrxtv",
        "colab_type": "text"
      },
      "source": [
        "*So basically you have to create 3 Colab Notebook*:\n",
        "\n",
        "\n",
        "1.   In the first Notebook , you have to upload the DataSet on Kaggle.\n",
        "2.   In the second Notebook, you have to train the Model and save it.\n",
        "3.   In the third Notebook , you have to craete the Prediction function.\n",
        "\n",
        "***You must write the code in such a way that all the notebooks become independant once you are done with coding....***\n",
        "\n",
        "***In short you are writing first two notebooks for yourself and 3rd for a user so write codes keeping this thing i mind***\n",
        "***And in the prediction part user is only going to upload test files or test images so it\"s upto you how to manage and get all necessary data in your notebook(Assume that user will not upload any configration file like kaggle.json in the prediction notebook) ***\n"
      ]
    },
    {
      "cell_type": "markdown",
      "metadata": {
        "id": "1CrSI9bLl0q0",
        "colab_type": "text"
      },
      "source": [
        "# ***Step*** ***1***: Arrange the DataSet\n",
        "\n",
        "---\n",
        "\n"
      ]
    },
    {
      "cell_type": "markdown",
      "metadata": {
        "id": "j7_USbvQmCD5",
        "colab_type": "text"
      },
      "source": [
        "The first and the most basic requirement for any of your projects is to arrage a Dataset .\n",
        "Dataset as the name suggests comprises of the collection of the data on which your model will be trained.\n",
        "\n",
        "Data can be arranged as following:\n",
        "\n",
        "\n",
        "*   Take the predefined dataset from either Kaggle , GoogleDrive or Github.\n",
        "*   Create your own data set.\n",
        "\n",
        "Make sure that you upload your Dataset on kaggle by creating API.\n",
        "\n"
      ]
    },
    {
      "cell_type": "markdown",
      "metadata": {
        "id": "CIoYY06xumdX",
        "colab_type": "text"
      },
      "source": [
        "# ***Step*** ***2***:Data Pre_Processing"
      ]
    },
    {
      "cell_type": "markdown",
      "metadata": {
        "id": "YF83c_XUu_u2",
        "colab_type": "text"
      },
      "source": [
        "Data Pre-Processing will be done in the 2nd Colab Notebook of your Project.\n",
        "In this notebook , you have to download DataSet from kaggle (you have uploaded it on kaggle in the 1st Notebook)\n",
        "\n",
        "\n",
        "\n",
        "Data Pre_Processing includes data cleaning , Data Augmentation and ROI(Region Of Interest)\n",
        "\n",
        "Data Augmentation is a strategy that enables practitioners to significantly increase the diversity of data available for training models ,without actually collecting new data. It includes methods like cropping and horizontal flipping in training large neural networks.\n",
        "\n",
        "\n",
        "Region Of Interest(ROI) are samples within a DataSet identified for a particular purpose.For example in processing a particular image there may be many things besides the exact feature on which your model is based , so to get access of only that region of interest is beneficial for your model , as this can give better results.\n",
        "\n",
        "\n",
        "After training your DataSet ,you also have to save your Model in 2nd Notebook itself."
      ]
    },
    {
      "cell_type": "markdown",
      "metadata": {
        "id": "KNVuqAvozPG3",
        "colab_type": "text"
      },
      "source": [
        "#***Step*** ***3*** Training of Data"
      ]
    },
    {
      "cell_type": "markdown",
      "metadata": {
        "id": "J3xEIV0Azh88",
        "colab_type": "text"
      },
      "source": [
        "## *Selection Of Model*"
      ]
    },
    {
      "cell_type": "markdown",
      "metadata": {
        "id": "OjVHZBEFzzQL",
        "colab_type": "text"
      },
      "source": [
        "There are many models available for us in the fastai library like resnet34 , resnet50 , resnet152, alexnet and many more. But through research it is observed that resnet50 works well almost all the time."
      ]
    },
    {
      "cell_type": "markdown",
      "metadata": {
        "id": "vGFW4HeUUBa0",
        "colab_type": "text"
      },
      "source": [
        "## Measuring Performance Of your Model"
      ]
    },
    {
      "cell_type": "markdown",
      "metadata": {
        "id": "DLZEc7F7ULCs",
        "colab_type": "text"
      },
      "source": [
        "Measuring and Comparing the perforformance of different models is a very important part of your project , as you always want your model to be more precise and time-efficient.\n",
        "\n",
        "Following are the methods by which you measure performance of your model:\n",
        "\n",
        "*   ***The size*** of .pth file.\n",
        "*   **Accuracy**:Whenever you train your model , you get to know the accuracy of your model , and hence you see how well your model is working.\n",
        "*   **Inference**-**time**:The time , your model is taking to predict a given sample value\n",
        "*   **Precision** **and** **Recall**: Precision (also called positive predictive value) is the fraction of relevant instances among the retrieved instances.while recall (also known as sensitivity) is the fraction of the total amount of relevant instances that were actually retrieved. Both precision and recall are therefore based on an understanding and measure of relevance , when our data is imbalanced.\n",
        "\n",
        "    ![image.png](data:image/png;base64,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)                                                   ![image.png](data:image/png;base64,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)\n",
        "\n",
        "\n",
        "\n"
      ]
    },
    {
      "cell_type": "markdown",
      "metadata": {
        "id": "R1MNshoafBPx",
        "colab_type": "text"
      },
      "source": [
        "#***Step*** ***4***: Prediction Of Data"
      ]
    },
    {
      "cell_type": "markdown",
      "metadata": {
        "id": "KIGgP0kmhf3M",
        "colab_type": "text"
      },
      "source": [
        "You have to make two functions in your 3rd Notebook which is totally based upen predictions only.(Not connecting GoogleDrive to this Notebook)\n",
        "\n",
        "\n",
        "*   The first function is such that it takes input as the link of an image and return the output as per its training and learning. \n",
        "*   The second function will contain link of a video and give the outut accordingly and simultaneously.\n",
        "\n"
      ]
    },
    {
      "cell_type": "markdown",
      "metadata": {
        "id": "1ybUqGptgU3z",
        "colab_type": "text"
      },
      "source": [
        "# ***Represent*** ***Your*** ***Project***"
      ]
    },
    {
      "cell_type": "markdown",
      "metadata": {
        "id": "JV0pFudNjXnF",
        "colab_type": "text"
      },
      "source": [
        "Now after your Project is complete you have to make a report of the project in three formats. Create a PDF File ,  a Ppt and also a Word Document containg all the necessary information of your Project . You should be able to explain all the minor details of your project in these documents.\n",
        "\n",
        "\n",
        "Make sure you include the following points :\n",
        "\n",
        "\n",
        "1.   Introduction\n",
        "2.   Abstract\n",
        "3.   Keywords\n",
        "4.   Explain Problem Statement \n",
        "5.   Method\n",
        "6.   Conclusion\n",
        "7.   Reference\n",
        "8.   Acknowledgements\n",
        "\n",
        "*Use your own creativity to make your report more understandable and self-explanatory. *\n"
      ]
    },
    {
      "cell_type": "markdown",
      "metadata": {
        "id": "B1mllhvHp-mh",
        "colab_type": "text"
      },
      "source": [
        "# ***Final*** ***Step***"
      ]
    },
    {
      "cell_type": "markdown",
      "metadata": {
        "id": "vKU1XftsqVc4",
        "colab_type": "text"
      },
      "source": [
        "After you are done with your Project(The 3 Colab Notebooks) , your Report(PDF , ppt and Word Document ) , and also .pth and .pkl file (made after you save and export your Moedel) you have to create a folder in GoogleDrive."
      ]
    },
    {
      "cell_type": "markdown",
      "metadata": {
        "id": "7d6i0XnlrimF",
        "colab_type": "text"
      },
      "source": [
        "# ***FAQs***"
      ]
    },
    {
      "cell_type": "markdown",
      "metadata": {
        "id": "YhQinq8gro1H",
        "colab_type": "text"
      },
      "source": [
        "***Que*** ***1*** :) **Can** **we** **create** **our** **own** **Models**? (**Till** **now** **we** **are** **using** **pre**-**trained** **Models** **that** **are** **given** **to** **us** **by** **fasai** **library**) \n",
        "\n",
        "~*By* *Vibhav* *Agarwal*\n",
        "\n",
        "Ans   :) Yes, you can create your own models and train it , although it may happen that the accuracy of your model is less as compared to many other pre-trained models , but still , you can do it and in further lessons you will get know more about this."
      ]
    },
    {
      "cell_type": "markdown",
      "metadata": {
        "id": "cBwkmtZjvBxB",
        "colab_type": "text"
      },
      "source": [
        "***Que*** ***2*** :) **What** **is** **meant** **by** **the** **size** **parameter** **in** **this** **function**\n",
        "\n",
        "**data = ImageDataBunch.from_name_re(path_img, fnames, ds_tfms=get_transforms(), size=224, bs=bs)**\n",
        "\n",
        "*~By Aditya Aggarwal*\n",
        "\n",
        "Ans  :) The size here represents the size of the image in pixels which the function can accept. By default its value is 224 , so we use this value itself as it works well nearly all times. Yoy can change this value and give a value of your own that is up to you.  "
      ]
    },
    {
      "cell_type": "markdown",
      "metadata": {
        "id": "ImzDzylOz68Y",
        "colab_type": "text"
      },
      "source": [
        "***Que*** ***3***:)**How can we upload our DataSet if the size of the DataSet is large(say 1 or 2 gb)?**\n",
        "\n",
        "*~Avirat Gupta*\n",
        "\n",
        "Ans  :)Your internet is not being consumed up whenever you upload something from Colab,So you need not to take tension about that."
      ]
    },
    {
      "cell_type": "markdown",
      "metadata": {
        "id": "cxYcy52B3_NE",
        "colab_type": "text"
      },
      "source": [
        "***Que 4:)*** **Is it important to know that test_data is large enough or not?**\n",
        "\n",
        "*~Mridul Setia*\n",
        "\n",
        "Ans  :) Yes , ofcousre, it matters whether your test_data is large enough(variations and different test cases help more) to test your data or not . Larger(distinct) the test_data , more accurate result of your Model will be given. It is like you have a large dataset to test if your model is working properly or not. "
      ]
    },
    {
      "cell_type": "markdown",
      "metadata": {
        "id": "y61gGwv06HaK",
        "colab_type": "text"
      },
      "source": [
        "***Que 5:)*** **Can we use the Subset of the DataSet from kaggle and then upload it?**\n",
        "\n",
        "*~Snehal Malhotra*\n",
        "\n",
        "Ans  :) Yes you can take out a subset from the dataset and then use it in your project. There will be no issue if you train the full DataSet also , but it will take some more time."
      ]
    },
    {
      "cell_type": "markdown",
      "metadata": {
        "id": "l-3wHvjV8IzM",
        "colab_type": "text"
      },
      "source": [
        "***Que 6:)*** **What is the difference between save(stage-1) and export?**\n",
        "\n",
        "*~Sanyam Mittal*\n",
        "\n",
        "Ans  :) Learn is a variable which stores all the info about your modle and export is just a method  to generate a pkl file from that learn variable and that pkl file can be further used to make predictions"
      ]
    },
    {
      "cell_type": "markdown",
      "metadata": {
        "id": "tYUYBgFY_HEf",
        "colab_type": "text"
      },
      "source": [
        "***Que 7:)*** **What is meant by learn.load()?**\n",
        "\n",
        "*~Khushi Jhawar*\n",
        "\n",
        "Ans  :) Everytime you run the prediction function , you will obviously not training your model again and again , so to take the trained model up from where you have saved it , you use load() function."
      ]
    }
  ]
}