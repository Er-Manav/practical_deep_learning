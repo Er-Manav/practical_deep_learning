{
  "nbformat": 4,
  "nbformat_minor": 0,
  "metadata": {
    "colab": {
      "name": "Lesson 6 Computer Vision.ipynb",
      "provenance": [],
      "authorship_tag": "ABX9TyOL+acLw20ZRu5YteLh0tQy"
    },
    "kernelspec": {
      "name": "python3",
      "display_name": "Python 3"
    }
  },
  "cells": [
    {
      "cell_type": "markdown",
      "metadata": {
        "id": "IdmmqcxeDRyK",
        "colab_type": "text"
      },
      "source": [
        "***In this module we are going to learn about neurons from scratch....***"
      ]
    },
    {
      "cell_type": "markdown",
      "metadata": {
        "id": "MMblS-MZDgO7",
        "colab_type": "text"
      },
      "source": [
        "***What is neuron?***\n",
        "\n",
        "![Neuron Image](https://sciencetrends.com/wp-content/uploads/2019/05/neuron-featured.png)\n",
        "\n",
        "Neurons are the basic organizational units of the brain and nervous system. Neurons form the bulk of all nervous tissue and are what allow nervous tissue to conduct electrical signals that allow parts of the body to communicate with each other. Neurons are the cells that are responsible for receiving sensory input from the outside world, sending motor commands to move parts of the body, forming memories in the brain, and more. Virtually every aspect of our experiential life and engagement with the world is mediated by the activity of neurons.\n",
        "\n",
        "The human brain is estimated to contain over 100 billion neurons with each neuron having, on average, connections to 1000 other neurons. This vast connectional architecture explains that computational complexity of the human brain. Neurons communicate with each other by generating and conducting electrical signals. The constant electrical signaling is the physical correlate for our thoughts, emotion, feelings, sensory experiences, etc."
      ]
    },
    {
      "cell_type": "markdown",
      "metadata": {
        "id": "9anKcUWKJ_LI",
        "colab_type": "text"
      },
      "source": [
        "***Parts Of A Neuron***\n",
        "\n",
        "\n",
        "---\n",
        "\n",
        "All neurons share a few basic anatomical features.\n",
        "\n",
        "...............................................................![Labelled Neuron](https://sciencetrends.com/wp-content/uploads/2019/05/neuron-700x376.png)\n",
        "\n"
      ]
    },
    {
      "cell_type": "markdown",
      "metadata": {
        "id": "dR-v6zrzHK5D",
        "colab_type": "text"
      },
      "source": [
        "***Neural networks: a brief history***\n",
        "\n",
        "\n",
        "In 1943 Warren McCulloch, a neurophysiologist, and Walter Pitts, a logician, teamed up to develop a mathematical model of an artificial neuron. They declared that:\n",
        "\n",
        "*Because of the ***“all-or-none”*** character of nervous activity, neural events and the relations among them can be treated by means of propositional logic. It is found that the behavior of every net can be described in these terms. (Pitts and McCulloch; A Logical Calculus of the Ideas Immanent in Nervous Activity)*\n",
        "\n",
        "The realised that a simplified model of a real neuron could be represented using simple addition and thresholding. **Pitts** was an autodidact who, by age 12, had received an offer to study at Cambridge with the great **Bertrand Russell**. He did not take up this invitation, and indeed throughout his life did not accept any offers of advanced degrees or positions of authority. Most of his famous work was done whilst he was homeless. Despite his lack of an officially recognized position, and increasing social isolation, his work with McCulloch was influential, and was picked up by a psychologist named **Frank Rosenblatt.**\n",
        "\n",
        "Rosenblatt further developed the artificial neuron to give it the ability to learn. Even more importantly, he worked on building the first device that actually used these principles: The Mark I Perceptron. Rosenblatt wrote about this work: “we are about to witness the birth of such a machine – a machine capable of perceiving, recognizing and identifying its surroundings without any human training or control”. The perceptron was built, and was able to successfully recognize simple shapes."
      ]
    },
    {
      "cell_type": "markdown",
      "metadata": {
        "id": "auifJJUzKykX",
        "colab_type": "text"
      },
      "source": [
        "***All or None principle***\n",
        "\n",
        "***.....................................***![euron Image](https://www.verywellmind.com/thmb/febbPChcGJ8dtomTfmHTT9D5tnc=/768x0/filters:no_upscale():max_bytes(150000):strip_icc():format(webp)/GettyImages-172594438-56a796f13df78cf7729768ee.jpg)\n",
        "\n",
        "\n",
        "The all-or-none law is a principle that states that the strength of a response of a nerve cell or muscle fiber is not dependent upon the strength of the stimulus. If a stimulus is above a certain threshold, a nerve or muscle fiber will fire. Essentially, there will either be a full response or there will be no response at all for an individual neuron or muscle fiber.\n"
      ]
    },
    {
      "cell_type": "markdown",
      "metadata": {
        "id": "perh8KNXeTsK",
        "colab_type": "text"
      },
      "source": [
        "# ***Concept of Perceptron***"
      ]
    },
    {
      "cell_type": "markdown",
      "metadata": {
        "id": "eYY_r2bDeaVM",
        "colab_type": "text"
      },
      "source": [
        "**What is Perceptron?**\n",
        "\n"
      ]
    },
    {
      "cell_type": "markdown",
      "metadata": {
        "id": "zpblGNvQVIOg",
        "colab_type": "text"
      },
      "source": [
        "***Sigmoid function***\n",
        "\n",
        "\n",
        "It is a mathematical function having a characteristic that can take any real value and map it to between 0 to 1 shaped like the letter “S”. The sigmoid function also called a logistic function.\n",
        "\n",
        "![Sigmoid function formula](https://analyticsindiamag.com/wp-content/uploads/2018/01/sigmoid-equation-1.png)\n",
        "\n",
        "![Sigmoid Function](https://mathworld.wolfram.com/images/eps-gif/SigmoidFunction_701.gif)"
      ]
    },
    {
      "cell_type": "code",
      "metadata": {
        "id": "xKef98NVDPJR",
        "colab_type": "code",
        "colab": {}
      },
      "source": [
        "import numpy as np\n",
        "def sigmoid(z):\n",
        "    a = 1 / (1 + np.exp(-z))\n",
        "    return a"
      ],
      "execution_count": null,
      "outputs": []
    },
    {
      "cell_type": "code",
      "metadata": {
        "id": "URA9epyEO8Sn",
        "colab_type": "code",
        "colab": {
          "base_uri": "https://localhost:8080/",
          "height": 34
        },
        "outputId": "2e5f02c1-c20a-484c-d984-704d8b9ec99f"
      },
      "source": [
        "np.dot([1,2,3,4],[3,4,5,6])"
      ],
      "execution_count": null,
      "outputs": [
        {
          "output_type": "execute_result",
          "data": {
            "text/plain": [
              "50"
            ]
          },
          "metadata": {
            "tags": []
          },
          "execution_count": 3
        }
      ]
    },
    {
      "cell_type": "code",
      "metadata": {
        "id": "8wu_AMpJPBJi",
        "colab_type": "code",
        "colab": {}
      },
      "source": [
        ""
      ],
      "execution_count": null,
      "outputs": []
    }
  ]
}